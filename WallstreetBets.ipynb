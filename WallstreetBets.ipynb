{
 "cells": [
  {
   "cell_type": "code",
   "execution_count": 1,
   "id": "9e37b0b1",
   "metadata": {},
   "outputs": [],
   "source": [
    "import pandas as pd\n",
    "import numpy as np\n",
    "import matplotlib.pyplot as plt\n",
    "import seaborn as sb\n",
    "import praw\n",
    "import os\n",
    "import re"
   ]
  },
  {
   "cell_type": "code",
   "execution_count": 3,
   "id": "1cb35ba2",
   "metadata": {},
   "outputs": [],
   "source": [
    "from reddit_key import api_key, api_key_secret\n",
    "\n"
   ]
  },
  {
   "cell_type": "code",
   "execution_count": 7,
   "id": "abd80c40",
   "metadata": {},
   "outputs": [],
   "source": [
    "user_agent = \"example 1.0 by lucho\"\n",
    "reddit= praw.Reddit(\n",
    "    client_id = api_key,\n",
    "    client_secret= api_key_secret,\n",
    "    user_agent = user_agent\n",
    ")"
   ]
  },
  {
   "cell_type": "code",
   "execution_count": 9,
   "id": "6f391624",
   "metadata": {},
   "outputs": [
    {
     "name": "stdout",
     "output_type": "stream",
     "text": [
      "Can I write this off?\n",
      "110br7v\n",
      "easily_rekt\n",
      "1676194231.0\n",
      "1\n",
      "1.0\n",
      "https://i.redd.it/5i9d2ac1qrha1.jpg\n"
     ]
    }
   ],
   "source": [
    "headline = set()\n",
    "for submission in reddit.subreddit('wallstreetbets').new(limit=None):\n",
    "    print(submission.title)\n",
    "    print(submission.id)\n",
    "    print(submission.author)\n",
    "    print(submission.created_utc)\n",
    "    print(submission.score)\n",
    "    print(submission.upvote_ratio)\n",
    "    print(submission.url)\n",
    "    break\n",
    "    headlines.add(submission.title)\n",
    "    print(len(headlines))"
   ]
  },
  {
   "cell_type": "code",
   "execution_count": 37,
   "id": "60baae93",
   "metadata": {},
   "outputs": [
    {
     "name": "stdout",
     "output_type": "stream",
     "text": [
      "['TSLA', 'LYFT', 'BBD', 'F', 'AAPL', 'NVDA', 'GOOGL', 'AMZN', 'AMD', 'GOOG', 'ITUB', 'PLTR', 'UBER', 'CCL', 'AMC', 'NIO', 'PYPL', 'SOFI', 'LUMN', 'PBR', 'META', 'BAC', 'INTC', 'CS', 'APE']\n"
     ]
    }
   ],
   "source": [
    "import requests\n",
    "from bs4 import BeautifulSoup\n",
    "\n",
    "headers = {\n",
    "    \"User-Agent\": \"Mozilla/5.0 (Windows NT 10.0; Win64; x64) AppleWebKit/537.36 (KHTML, like Gecko) Chrome/89.0.4389.82 Safari/537.36\"\n",
    "}\n",
    "\n",
    "url = \"https://finance.yahoo.com/most-active/?count=50&offset=0\"\n",
    "page = requests.get(url)\n",
    "soup = BeautifulSoup(page.content, \"html.parser\")\n",
    "\n",
    "stock_names = [stock.text for stock in soup.find_all(\"a\", {\"data-test\": \"quoteLink\"})]\n",
    "print(stock_names)\n",
    "\n",
    "\n",
    "\n"
   ]
  },
  {
   "cell_type": "code",
   "execution_count": 35,
   "id": "0f410a64",
   "metadata": {},
   "outputs": [
    {
     "data": {
      "text/plain": [
       "['TSLA',\n",
       " 'LYFT',\n",
       " 'BBD',\n",
       " 'F',\n",
       " 'AAPL',\n",
       " 'NVDA',\n",
       " 'GOOGL',\n",
       " 'AMZN',\n",
       " 'AMD',\n",
       " 'GOOG',\n",
       " 'ITUB',\n",
       " 'PLTR',\n",
       " 'UBER',\n",
       " 'CCL',\n",
       " 'AMC',\n",
       " 'NIO',\n",
       " 'PYPL',\n",
       " 'SOFI',\n",
       " 'LUMN',\n",
       " 'PBR',\n",
       " 'META',\n",
       " 'BAC',\n",
       " 'INTC',\n",
       " 'CS',\n",
       " 'APE']"
      ]
     },
     "execution_count": 35,
     "metadata": {},
     "output_type": "execute_result"
    }
   ],
   "source": [
    "stock_names"
   ]
  },
  {
   "cell_type": "code",
   "execution_count": 26,
   "id": "08c471bb",
   "metadata": {},
   "outputs": [
    {
     "name": "stdout",
     "output_type": "stream",
     "text": [
      "6885\n"
     ]
    }
   ],
   "source": [
    "subreddits = ['stockmarket', 'investing', 'wallstreetbets',\n",
    "              'Wallstreetbetsnew','WallStreetbetsELITE',\n",
    "              'stocks','StockMarket','investing',\n",
    "              'SPACs', 'options','Daytrading','Shortsqueeze',\n",
    "              'SqueezePlays']\n",
    "\n",
    "headlines = set()\n",
    "for subreddit in subreddits:\n",
    "    for submission in reddit.subreddit(subreddit).hot(limit=None):\n",
    "            headlines.add(submission.title)\n",
    "print(len(headlines))\n"
   ]
  },
  {
   "cell_type": "code",
   "execution_count": 38,
   "id": "d02b46c3",
   "metadata": {},
   "outputs": [
    {
     "name": "stdout",
     "output_type": "stream",
     "text": [
      "1530\n"
     ]
    }
   ],
   "source": [
    "headlines = set()\n",
    "for subreddit in subreddits:\n",
    "    for submission in reddit.subreddit(subreddit).hot(limit=None):\n",
    "        for stock_name in stock_names:\n",
    "            if stock_name in submission.title:\n",
    "                headlines.add(submission.title)\n",
    "                break\n",
    "\n",
    "print(len(headlines))"
   ]
  },
  {
   "cell_type": "code",
   "execution_count": 39,
   "id": "3ef3ec85",
   "metadata": {},
   "outputs": [
    {
     "data": {
      "text/html": [
       "<div>\n",
       "<style scoped>\n",
       "    .dataframe tbody tr th:only-of-type {\n",
       "        vertical-align: middle;\n",
       "    }\n",
       "\n",
       "    .dataframe tbody tr th {\n",
       "        vertical-align: top;\n",
       "    }\n",
       "\n",
       "    .dataframe thead th {\n",
       "        text-align: right;\n",
       "    }\n",
       "</style>\n",
       "<table border=\"1\" class=\"dataframe\">\n",
       "  <thead>\n",
       "    <tr style=\"text-align: right;\">\n",
       "      <th></th>\n",
       "      <th>0</th>\n",
       "    </tr>\n",
       "  </thead>\n",
       "  <tbody>\n",
       "    <tr>\n",
       "      <th>0</th>\n",
       "      <td>One year ago, FTX ran a Super Bowl commercial ...</td>\n",
       "    </tr>\n",
       "    <tr>\n",
       "      <th>1</th>\n",
       "      <td>Equity Residential posts slight Q4 FFO miss, i...</td>\n",
       "    </tr>\n",
       "    <tr>\n",
       "      <th>2</th>\n",
       "      <td>Futures explainer</td>\n",
       "    </tr>\n",
       "    <tr>\n",
       "      <th>3</th>\n",
       "      <td>$APE is starting to squeeze!</td>\n",
       "    </tr>\n",
       "    <tr>\n",
       "      <th>4</th>\n",
       "      <td>At US$75.04, Is It Time To Put Fidelity Nation...</td>\n",
       "    </tr>\n",
       "    <tr>\n",
       "      <th>...</th>\n",
       "      <td>...</td>\n",
       "    </tr>\n",
       "    <tr>\n",
       "      <th>1525</th>\n",
       "      <td>CRTD - is a sleeping giant. Link to William Fe...</td>\n",
       "    </tr>\n",
       "    <tr>\n",
       "      <th>1526</th>\n",
       "      <td>Reddit ETF progress from Jan 2021 to Jan 2023</td>\n",
       "    </tr>\n",
       "    <tr>\n",
       "      <th>1527</th>\n",
       "      <td>NFA. Stay away from $GERN</td>\n",
       "    </tr>\n",
       "    <tr>\n",
       "      <th>1528</th>\n",
       "      <td>Lost $15k flip flopping on Tesla. Was up $10k ...</td>\n",
       "    </tr>\n",
       "    <tr>\n",
       "      <th>1529</th>\n",
       "      <td>Daily General Discussion and Advice Thread - F...</td>\n",
       "    </tr>\n",
       "  </tbody>\n",
       "</table>\n",
       "<p>1530 rows × 1 columns</p>\n",
       "</div>"
      ],
      "text/plain": [
       "                                                      0\n",
       "0     One year ago, FTX ran a Super Bowl commercial ...\n",
       "1     Equity Residential posts slight Q4 FFO miss, i...\n",
       "2                                     Futures explainer\n",
       "3                          $APE is starting to squeeze!\n",
       "4     At US$75.04, Is It Time To Put Fidelity Nation...\n",
       "...                                                 ...\n",
       "1525  CRTD - is a sleeping giant. Link to William Fe...\n",
       "1526      Reddit ETF progress from Jan 2021 to Jan 2023\n",
       "1527                          NFA. Stay away from $GERN\n",
       "1528  Lost $15k flip flopping on Tesla. Was up $10k ...\n",
       "1529  Daily General Discussion and Advice Thread - F...\n",
       "\n",
       "[1530 rows x 1 columns]"
      ]
     },
     "execution_count": 39,
     "metadata": {},
     "output_type": "execute_result"
    }
   ],
   "source": [
    "df = pd.DataFrame(headlines)\n",
    "df"
   ]
  },
  {
   "cell_type": "code",
   "execution_count": null,
   "id": "fafbed53",
   "metadata": {},
   "outputs": [],
   "source": [
    "df.to_csv"
   ]
  }
 ],
 "metadata": {
  "kernelspec": {
   "display_name": "Python 3",
   "language": "python",
   "name": "python3"
  },
  "language_info": {
   "codemirror_mode": {
    "name": "ipython",
    "version": 3
   },
   "file_extension": ".py",
   "mimetype": "text/x-python",
   "name": "python",
   "nbconvert_exporter": "python",
   "pygments_lexer": "ipython3",
   "version": "3.8.8"
  }
 },
 "nbformat": 4,
 "nbformat_minor": 5
}
